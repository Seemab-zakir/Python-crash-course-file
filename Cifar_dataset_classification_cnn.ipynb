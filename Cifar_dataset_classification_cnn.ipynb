{
  "nbformat": 4,
  "nbformat_minor": 0,
  "metadata": {
    "colab": {
      "provenance": [],
      "include_colab_link": true
    },
    "kernelspec": {
      "name": "python3",
      "display_name": "Python 3"
    },
    "language_info": {
      "name": "python"
    },
    "accelerator": "GPU",
    "gpuClass": "standard"
  },
  "cells": [
    {
      "cell_type": "markdown",
      "metadata": {
        "id": "view-in-github",
        "colab_type": "text"
      },
      "source": [
        "<a href=\"https://colab.research.google.com/github/Seemab-zakir/Python-crash-course-file/blob/main/Cifar_dataset_classification_cnn.ipynb\" target=\"_parent\"><img src=\"https://colab.research.google.com/assets/colab-badge.svg\" alt=\"Open In Colab\"/></a>"
      ]
    },
    {
      "cell_type": "code",
      "source": [
        "from tensorflow import keras \n",
        "import matplotlib.pyplot as plt\n",
        "import tensorflow as tf\n",
        "import numpy as np\n",
        "(x_train, y_train), (x_test, y_test) = keras.datasets.cifar10.load_data()\n"
      ],
      "metadata": {
        "id": "Pu0KsZtgjgvd",
        "colab": {
          "base_uri": "https://localhost:8080/"
        },
        "outputId": "949afdc5-067d-4757-c960-6881cbef63d7"
      },
      "execution_count": null,
      "outputs": [
        {
          "output_type": "stream",
          "name": "stdout",
          "text": [
            "Downloading data from https://www.cs.toronto.edu/~kriz/cifar-10-python.tar.gz\n",
            "170498071/170498071 [==============================] - 2s 0us/step\n"
          ]
        }
      ]
    },
    {
      "cell_type": "code",
      "source": [
        "x_train.shape"
      ],
      "metadata": {
        "colab": {
          "base_uri": "https://localhost:8080/"
        },
        "id": "bgduJg_qjw88",
        "outputId": "b7eeb0f4-8d71-43d8-bc4c-dd7072b47c68"
      },
      "execution_count": null,
      "outputs": [
        {
          "output_type": "execute_result",
          "data": {
            "text/plain": [
              "(50000, 32, 32, 3)"
            ]
          },
          "metadata": {},
          "execution_count": 2
        }
      ]
    },
    {
      "cell_type": "code",
      "source": [
        "x_test.shape"
      ],
      "metadata": {
        "colab": {
          "base_uri": "https://localhost:8080/"
        },
        "id": "6kXa3_hAj0PC",
        "outputId": "e912f9c9-9f01-4021-83f4-4bb2303f8401"
      },
      "execution_count": null,
      "outputs": [
        {
          "output_type": "execute_result",
          "data": {
            "text/plain": [
              "(10000, 32, 32, 3)"
            ]
          },
          "metadata": {},
          "execution_count": 3
        }
      ]
    },
    {
      "cell_type": "code",
      "source": [
        "# Scale images to the [0, 1] range\n",
        "x_train = x_train.astype(\"float32\") / 255\n",
        "x_test = x_test.astype(\"float32\") / 255\n",
        "print(x_train.shape[0], \"train samples\")\n",
        "print(x_test.shape[0], \"test samples\")"
      ],
      "metadata": {
        "colab": {
          "base_uri": "https://localhost:8080/"
        },
        "id": "3koSpZ5oj54Y",
        "outputId": "b9bd87d8-11b4-4783-f49e-afab4080875c"
      },
      "execution_count": null,
      "outputs": [
        {
          "output_type": "stream",
          "name": "stdout",
          "text": [
            "50000 train samples\n",
            "10000 test samples\n"
          ]
        }
      ]
    },
    {
      "cell_type": "code",
      "source": [
        "#print(x_test[0,:,:,0].shape)\n",
        "#plt.imshow(x_test[2000,100:,:])#for 1 channel in matplotlib we put 0 in place of channel\n",
        "#plt.show()"
      ],
      "metadata": {
        "id": "GV4IUgwamg6P"
      },
      "execution_count": null,
      "outputs": []
    },
    {
      "cell_type": "code",
      "source": [
        "num_classes=10\n",
        "# convert class vectors to binary class matrices\n",
        "y_train = keras.utils.to_categorical(y_train, num_classes)\n",
        "y_test = keras.utils.to_categorical(y_test, num_classes)"
      ],
      "metadata": {
        "id": "y-zqH0EPoL73"
      },
      "execution_count": null,
      "outputs": []
    },
    {
      "cell_type": "code",
      "source": [
        "from keras.layers import Dropout\n",
        "from keras.layers import LeakyReLU\n",
        "from keras.layers import AveragePooling2D"
      ],
      "metadata": {
        "id": "JeLE5yLgoGR_"
      },
      "execution_count": null,
      "outputs": []
    },
    {
      "cell_type": "code",
      "source": [
        "model=tf.keras.models.Sequential([\n",
        "    \n",
        "    tf.keras.Input(shape=(32,32,3)),\n",
        "    \n",
        "    tf.keras.layers.Conv2D(\n",
        "    filters=32,\n",
        "    kernel_size=5,\n",
        "    strides=(1, 1),\n",
        "    padding=\"valid\",\n",
        "    # bias_initializer='ones',\n",
        "    # kernel_initializer='ones'\n",
        "    ),#\"same\" means zero padding, 'valid' means 1 padding,\n",
        "\n",
        "    tf.keras.layers.BatchNormalization(),#This layer should be inserted between the convolutional layer and the activation function\n",
        "#mean of 0 and a standard deviation of 1 \n",
        "   \n",
        "    #tf.keras.layers.ReLU(),\n",
        "    tf.keras.layers.MaxPooling2D(pool_size=(2, 2), strides=2, padding=\"valid\"),\n",
        "    tf.keras.layers.LeakyReLU(alpha=0.1),\n",
        "\n",
        "    #tf.keras.layers.AveragePooling2D(pool_size=(2, 2), strides=2, padding=\"valid\"),\n",
        "\n",
        "    tf.keras.layers.Conv2D(\n",
        "    filters=64,\n",
        "    kernel_size=5,\n",
        "    strides=(1, 1),\n",
        "    padding=\"valid\"),\n",
        "    \n",
        "    #tf.keras.layers.ReLU(),\n",
        "    tf.keras.layers.MaxPooling2D(pool_size=(2, 2), strides=2, padding=\"valid\"),\n",
        "    tf.keras.layers.LeakyReLU(alpha=0.1),\n",
        "\n",
        "    #tf.keras.layers.AveragePooling2D(pool_size=(2, 2), strides=2, padding=\"valid\"),\n",
        "    tf.keras.layers.Conv2D(\n",
        "    filters=64,\n",
        "    kernel_size=3,#height and weight is less then 5 so cant use size 5\n",
        "    strides=(1, 1),\n",
        "    padding=\"valid\"),\n",
        "    #tf.keras.layers.ReLU(),\n",
        "    tf.keras.layers.MaxPooling2D(pool_size=(2, 2), strides=2, padding=\"valid\"),\n",
        "\n",
        "    tf.keras.layers.LeakyReLU(alpha=0.1),\n",
        "    #tf.keras.layers.AveragePooling2D(pool_size=(2, 2), strides=2, padding=\"valid\"),\n",
        "    \n",
        "    tf.keras.layers.Flatten(),\n",
        "    \n",
        "    tf.keras.layers.Dense(128),\n",
        "    \n",
        "    #tf.keras.layers.ReLU(),\n",
        "\n",
        "   tf.keras.layers.LeakyReLU(alpha=0.1),# the slope of the activation function will be 0.1 for x < 0.\n",
        "\n",
        "    tf.keras.layers.Dense(10,activation='softmax'),\n",
        "   # tf.keras.layers.Dropout(0.2)\n",
        "    \n",
        "    \n",
        "     #sigmoid for binary\n",
        "    #softmax multiclass\n",
        "\n",
        "])"
      ],
      "metadata": {
        "id": "Vav5m8Hgog71"
      },
      "execution_count": null,
      "outputs": []
    },
    {
      "cell_type": "code",
      "source": [
        "model.build()"
      ],
      "metadata": {
        "id": "I4DIMo3Bp2qi"
      },
      "execution_count": null,
      "outputs": []
    },
    {
      "cell_type": "code",
      "source": [
        "model.compile(optimizer=\"Adam\", loss=\"categorical_crossentropy\", metrics=[\"accuracy\"])"
      ],
      "metadata": {
        "id": "65V-O5nO7jtw"
      },
      "execution_count": null,
      "outputs": []
    },
    {
      "cell_type": "code",
      "source": [
        "model.summary()"
      ],
      "metadata": {
        "colab": {
          "base_uri": "https://localhost:8080/"
        },
        "id": "osH1Sindo8Pu",
        "outputId": "0b99ba31-6608-495e-e491-af9fbd6589ea"
      },
      "execution_count": null,
      "outputs": [
        {
          "output_type": "stream",
          "name": "stdout",
          "text": [
            "Model: \"sequential\"\n",
            "_________________________________________________________________\n",
            " Layer (type)                Output Shape              Param #   \n",
            "=================================================================\n",
            " conv2d (Conv2D)             (None, 28, 28, 32)        2432      \n",
            "                                                                 \n",
            " batch_normalization (BatchN  (None, 28, 28, 32)       128       \n",
            " ormalization)                                                   \n",
            "                                                                 \n",
            " max_pooling2d (MaxPooling2D  (None, 14, 14, 32)       0         \n",
            " )                                                               \n",
            "                                                                 \n",
            " leaky_re_lu (LeakyReLU)     (None, 14, 14, 32)        0         \n",
            "                                                                 \n",
            " conv2d_1 (Conv2D)           (None, 10, 10, 64)        51264     \n",
            "                                                                 \n",
            " max_pooling2d_1 (MaxPooling  (None, 5, 5, 64)         0         \n",
            " 2D)                                                             \n",
            "                                                                 \n",
            " leaky_re_lu_1 (LeakyReLU)   (None, 5, 5, 64)          0         \n",
            "                                                                 \n",
            " conv2d_2 (Conv2D)           (None, 3, 3, 64)          36928     \n",
            "                                                                 \n",
            " max_pooling2d_2 (MaxPooling  (None, 1, 1, 64)         0         \n",
            " 2D)                                                             \n",
            "                                                                 \n",
            " leaky_re_lu_2 (LeakyReLU)   (None, 1, 1, 64)          0         \n",
            "                                                                 \n",
            " flatten (Flatten)           (None, 64)                0         \n",
            "                                                                 \n",
            " dense (Dense)               (None, 128)               8320      \n",
            "                                                                 \n",
            " leaky_re_lu_3 (LeakyReLU)   (None, 128)               0         \n",
            "                                                                 \n",
            " dense_1 (Dense)             (None, 10)                1290      \n",
            "                                                                 \n",
            "=================================================================\n",
            "Total params: 100,362\n",
            "Trainable params: 100,298\n",
            "Non-trainable params: 64\n",
            "_________________________________________________________________\n"
          ]
        }
      ]
    },
    {
      "cell_type": "code",
      "source": [
        "model.layers[0].get_weights()[0]"
      ],
      "metadata": {
        "id": "VLi9x07YqfGK",
        "colab": {
          "base_uri": "https://localhost:8080/"
        },
        "outputId": "6696b89e-a08b-47a1-dcbd-0c71ace9dc32"
      },
      "execution_count": null,
      "outputs": [
        {
          "output_type": "execute_result",
          "data": {
            "text/plain": [
              "array([[[[-0.04754369, -0.06526604, -0.02335522, ...,  0.00153833,\n",
              "          -0.01606952,  0.06825368],\n",
              "         [-0.04241369,  0.03463511,  0.01453216, ...,  0.01757518,\n",
              "          -0.0318405 ,  0.03612074],\n",
              "         [ 0.00944036, -0.05056936, -0.06102971, ...,  0.07508577,\n",
              "           0.0747135 ,  0.08213468]],\n",
              "\n",
              "        [[-0.04043088, -0.00077467,  0.06990185, ...,  0.01931212,\n",
              "           0.07616155,  0.08163755],\n",
              "         [-0.00279633, -0.07649735, -0.03968991, ..., -0.03165412,\n",
              "           0.05243301,  0.05470063],\n",
              "         [ 0.07630573, -0.0686711 , -0.04302165, ..., -0.01848953,\n",
              "           0.00805456, -0.04784189]],\n",
              "\n",
              "        [[-0.01510769, -0.02284133,  0.0341536 , ..., -0.0488319 ,\n",
              "           0.03115626, -0.02222334],\n",
              "         [ 0.00027936,  0.0805369 ,  0.03447065, ...,  0.0696056 ,\n",
              "           0.04456249,  0.00032173],\n",
              "         [-0.01235139, -0.05074434, -0.00193895, ...,  0.06782678,\n",
              "           0.00080837,  0.00221567]],\n",
              "\n",
              "        [[ 0.07701367,  0.03387714, -0.04061299, ..., -0.05348949,\n",
              "          -0.01301758,  0.01390307],\n",
              "         [ 0.06120555, -0.01274225, -0.02314377, ..., -0.01248999,\n",
              "          -0.0074741 , -0.02398733],\n",
              "         [ 0.05987434,  0.06067768, -0.01062934, ..., -0.03198093,\n",
              "          -0.01195389,  0.03845217]],\n",
              "\n",
              "        [[ 0.05950886,  0.0810657 ,  0.03230453, ...,  0.00672014,\n",
              "          -0.01528591, -0.0085898 ],\n",
              "         [ 0.07194169,  0.08207408,  0.01429357, ..., -0.04439371,\n",
              "          -0.07439351, -0.03251036],\n",
              "         [-0.03876555,  0.0737503 , -0.07554518, ..., -0.03050064,\n",
              "           0.00103358, -0.08057386]]],\n",
              "\n",
              "\n",
              "       [[[ 0.04408975,  0.07625012,  0.05190162, ..., -0.03210215,\n",
              "          -0.06391558, -0.07316129],\n",
              "         [ 0.06400387,  0.02350157,  0.06679855, ..., -0.02884188,\n",
              "           0.00970565,  0.05721603],\n",
              "         [-0.08157995,  0.04653986, -0.02440657, ...,  0.04287665,\n",
              "          -0.04553905, -0.01653192]],\n",
              "\n",
              "        [[-0.06470749, -0.07051201, -0.03643361, ..., -0.06649867,\n",
              "           0.07059491,  0.05351487],\n",
              "         [-0.05066384,  0.07524291,  0.05457449, ..., -0.00462579,\n",
              "          -0.02562222,  0.06166029],\n",
              "         [ 0.04141438, -0.05113542, -0.0494307 , ...,  0.01492935,\n",
              "          -0.02053968,  0.0360764 ]],\n",
              "\n",
              "        [[-0.05084945, -0.05126553, -0.04223841, ..., -0.0699124 ,\n",
              "           0.06054039, -0.04737406],\n",
              "         [-0.02899805,  0.03168054, -0.05274903, ...,  0.02110457,\n",
              "          -0.03684788,  0.01777449],\n",
              "         [-0.02170382,  0.05991009,  0.05049889, ..., -0.02481643,\n",
              "          -0.04342344, -0.07848484]],\n",
              "\n",
              "        [[-0.06022809, -0.00549898,  0.02644531, ...,  0.0041441 ,\n",
              "          -0.06917205,  0.02959792],\n",
              "         [ 0.01709177, -0.02522661,  0.02568249, ..., -0.03277368,\n",
              "          -0.0459425 ,  0.06821166],\n",
              "         [-0.01003855,  0.01306415, -0.06963985, ..., -0.03553422,\n",
              "           0.06784496,  0.06305157]],\n",
              "\n",
              "        [[-0.03304782,  0.02396844,  0.01499146, ..., -0.06192571,\n",
              "           0.07311983, -0.03262111],\n",
              "         [ 0.00142331,  0.00952087,  0.04313397, ..., -0.04613134,\n",
              "          -0.03035705,  0.06831451],\n",
              "         [-0.04343824, -0.04412893,  0.01027353, ...,  0.08129478,\n",
              "          -0.06312349, -0.00983866]]],\n",
              "\n",
              "\n",
              "       [[[-0.05478559, -0.07979161,  0.03635002, ..., -0.05546894,\n",
              "           0.01537152,  0.0117209 ],\n",
              "         [ 0.04978505,  0.07339558,  0.07880004, ..., -0.05421143,\n",
              "          -0.0002761 ,  0.04278545],\n",
              "         [ 0.06729795,  0.01703511, -0.02493904, ..., -0.02555342,\n",
              "           0.05626982,  0.00247029]],\n",
              "\n",
              "        [[-0.07339749, -0.03056986, -0.02105758, ...,  0.03768206,\n",
              "          -0.04898982, -0.04023721],\n",
              "         [-0.05709136, -0.01742274,  0.02157954, ...,  0.07090808,\n",
              "           0.02293786,  0.00989766],\n",
              "         [ 0.05103976, -0.02754459,  0.05652976, ..., -0.02842035,\n",
              "           0.03733515,  0.03647892]],\n",
              "\n",
              "        [[-0.03635689,  0.07545525,  0.02034642, ..., -0.05087409,\n",
              "           0.00804542, -0.07071597],\n",
              "         [-0.06451586,  0.02607959,  0.06002815, ...,  0.04623669,\n",
              "          -0.07953881,  0.01809843],\n",
              "         [-0.07826601, -0.00539318,  0.04581887, ...,  0.00789295,\n",
              "           0.06726751, -0.07941745]],\n",
              "\n",
              "        [[-0.0789565 , -0.06719086,  0.0577527 , ...,  0.05410896,\n",
              "          -0.07081597,  0.00704972],\n",
              "         [-0.0547577 ,  0.0683511 ,  0.06091858, ..., -0.02940694,\n",
              "          -0.06838688, -0.03105567],\n",
              "         [-0.0562464 , -0.01097634, -0.08210569, ...,  0.04496516,\n",
              "           0.08014585,  0.04159779]],\n",
              "\n",
              "        [[-0.00564682, -0.00575544,  0.07233116, ...,  0.00601553,\n",
              "           0.02298611,  0.07386819],\n",
              "         [-0.00320984,  0.07516798,  0.07468943, ...,  0.08143836,\n",
              "           0.05332401,  0.04751854],\n",
              "         [-0.07557894,  0.01856442, -0.0501112 , ..., -0.07638443,\n",
              "          -0.06065717, -0.0246213 ]]],\n",
              "\n",
              "\n",
              "       [[[ 0.06178297, -0.07346006, -0.07005557, ...,  0.03314371,\n",
              "          -0.06195643,  0.00989185],\n",
              "         [ 0.06565186,  0.03629515, -0.0775004 , ..., -0.06487368,\n",
              "           0.06806844, -0.0458812 ],\n",
              "         [ 0.03462354, -0.01476126, -0.06003402, ...,  0.07089104,\n",
              "          -0.04883172, -0.02928183]],\n",
              "\n",
              "        [[-0.05006522,  0.00814181,  0.07111113, ...,  0.04797357,\n",
              "           0.02712199, -0.05671941],\n",
              "         [-0.00087303, -0.00119463, -0.01808801, ...,  0.00661764,\n",
              "           0.06374517, -0.04492878],\n",
              "         [ 0.00955828,  0.01041698,  0.0721747 , ..., -0.03256419,\n",
              "           0.044064  , -0.06854431]],\n",
              "\n",
              "        [[ 0.07702133, -0.07503636, -0.07707855, ...,  0.01186067,\n",
              "          -0.0438823 ,  0.04793604],\n",
              "         [ 0.04674214,  0.02974903,  0.01662776, ...,  0.0353596 ,\n",
              "           0.03131987, -0.02735315],\n",
              "         [ 0.02414484, -0.01913102,  0.02786555, ...,  0.03140084,\n",
              "           0.03422459, -0.00170488]],\n",
              "\n",
              "        [[-0.05907009,  0.00759047,  0.03353217, ...,  0.06284322,\n",
              "           0.0360518 ,  0.01503316],\n",
              "         [ 0.03148519,  0.03488233, -0.06591658, ...,  0.0079397 ,\n",
              "           0.014323  , -0.02455494],\n",
              "         [-0.02655322, -0.0106081 , -0.04024447, ..., -0.00291307,\n",
              "           0.05518514,  0.00247294]],\n",
              "\n",
              "        [[-0.06776834, -0.02664886,  0.06337631, ..., -0.07418676,\n",
              "          -0.06682716, -0.03156548],\n",
              "         [ 0.03535697,  0.0245642 ,  0.03696414, ..., -0.04756932,\n",
              "           0.06842828, -0.05930766],\n",
              "         [-0.06344984, -0.01544891, -0.00721511, ..., -0.02209949,\n",
              "           0.00096276,  0.08267845]]],\n",
              "\n",
              "\n",
              "       [[[-0.03606839, -0.03394679,  0.02026853, ..., -0.05565792,\n",
              "           0.03681828,  0.05850837],\n",
              "         [-0.03914234,  0.07571423, -0.04615857, ...,  0.01898625,\n",
              "           0.06532189, -0.02091004],\n",
              "         [ 0.01617337,  0.03115731,  0.0596316 , ...,  0.06448863,\n",
              "           0.05198741,  0.0733746 ]],\n",
              "\n",
              "        [[-0.07465781, -0.01284932, -0.01861656, ..., -0.07687473,\n",
              "          -0.00526291,  0.01297932],\n",
              "         [ 0.04625963,  0.03037596,  0.03760437, ..., -0.00832443,\n",
              "          -0.07757974,  0.04845481],\n",
              "         [-0.0131712 , -0.01917239, -0.02998263, ..., -0.04813586,\n",
              "          -0.06494539, -0.02401033]],\n",
              "\n",
              "        [[-0.07218584,  0.07081248, -0.02058912, ..., -0.01784333,\n",
              "          -0.04539552, -0.03024162],\n",
              "         [ 0.07229973, -0.0753019 , -0.04356314, ..., -0.05130492,\n",
              "           0.04834117,  0.06820352],\n",
              "         [ 0.03026566,  0.00678622,  0.05841242, ...,  0.07661697,\n",
              "           0.01586562,  0.00313101]],\n",
              "\n",
              "        [[ 0.07538798,  0.00846684,  0.05058569, ..., -0.03882596,\n",
              "           0.02939223,  0.07166582],\n",
              "         [ 0.02269069,  0.04801351,  0.04821989, ..., -0.03320511,\n",
              "           0.02123062,  0.00105463],\n",
              "         [-0.07804193, -0.06498231, -0.01400495, ...,  0.05984949,\n",
              "          -0.01586173,  0.07599896]],\n",
              "\n",
              "        [[ 0.05967385, -0.06644443, -0.01876967, ...,  0.07152778,\n",
              "          -0.06557932, -0.01477683],\n",
              "         [-0.07942598, -0.04665818,  0.08082588, ...,  0.02261707,\n",
              "           0.03411504, -0.0314949 ],\n",
              "         [ 0.05879444,  0.00191773,  0.01954318, ...,  0.05570783,\n",
              "           0.06456149,  0.018322  ]]]], dtype=float32)"
            ]
          },
          "metadata": {},
          "execution_count": 12
        }
      ]
    },
    {
      "cell_type": "code",
      "source": [
        "model.layers[0].get_weights()[0].max(),model.layers[0].get_weights()[0].min()"
      ],
      "metadata": {
        "colab": {
          "base_uri": "https://localhost:8080/"
        },
        "id": "A2iNWFnjqqEy",
        "outputId": "a33f4707-59b3-4e7e-9fa2-0b093fc28f0a"
      },
      "execution_count": null,
      "outputs": [
        {
          "output_type": "execute_result",
          "data": {
            "text/plain": [
              "(0.08267845, -0.082772724)"
            ]
          },
          "metadata": {},
          "execution_count": 13
        }
      ]
    },
    {
      "cell_type": "code",
      "source": [
        "model.fit(x_train,y_train,epochs=3,batch_size=24,validation_data=(x_test,y_test))"
      ],
      "metadata": {
        "id": "MaeJn-lPq1SF",
        "colab": {
          "base_uri": "https://localhost:8080/"
        },
        "outputId": "d9bb9de0-ac17-421e-feaa-a4b74305f31b"
      },
      "execution_count": null,
      "outputs": [
        {
          "output_type": "stream",
          "name": "stdout",
          "text": [
            "Epoch 1/3\n",
            "2084/2084 [==============================] - 18s 5ms/step - loss: 1.5199 - accuracy: 0.4523 - val_loss: 1.6166 - val_accuracy: 0.4488\n",
            "Epoch 2/3\n",
            "2084/2084 [==============================] - 10s 5ms/step - loss: 1.1497 - accuracy: 0.5941 - val_loss: 1.2186 - val_accuracy: 0.5809\n",
            "Epoch 3/3\n",
            "2084/2084 [==============================] - 9s 4ms/step - loss: 0.9842 - accuracy: 0.6592 - val_loss: 1.1221 - val_accuracy: 0.6176\n"
          ]
        },
        {
          "output_type": "execute_result",
          "data": {
            "text/plain": [
              "<keras.callbacks.History at 0x7f4f0e18b970>"
            ]
          },
          "metadata": {},
          "execution_count": 14
        }
      ]
    },
    {
      "cell_type": "code",
      "source": [
        "model.layers[0].get_weights()[0].max(),model.layers[0].get_weights()[0].min()"
      ],
      "metadata": {
        "colab": {
          "base_uri": "https://localhost:8080/"
        },
        "id": "ko9UWEeUr3L_",
        "outputId": "b22607d7-1cd3-4c20-836c-913a3e5aaef7"
      },
      "execution_count": null,
      "outputs": [
        {
          "output_type": "execute_result",
          "data": {
            "text/plain": [
              "(0.31536654, -0.34129483)"
            ]
          },
          "metadata": {},
          "execution_count": 15
        }
      ]
    },
    {
      "cell_type": "code",
      "source": [
        "x_test.shape,y_test.shape"
      ],
      "metadata": {
        "colab": {
          "base_uri": "https://localhost:8080/"
        },
        "id": "IAW8U2PIA9Mr",
        "outputId": "4433915b-108e-4ce4-8e0a-435759d4e8e6"
      },
      "execution_count": null,
      "outputs": [
        {
          "output_type": "execute_result",
          "data": {
            "text/plain": [
              "((10000, 32, 32, 3), (10000, 10))"
            ]
          },
          "metadata": {},
          "execution_count": 16
        }
      ]
    },
    {
      "cell_type": "code",
      "source": [
        "model.evaluate(x_test,y_test)"
      ],
      "metadata": {
        "colab": {
          "base_uri": "https://localhost:8080/"
        },
        "id": "NcHj93VusLL1",
        "outputId": "a385487b-66fd-436d-f60d-ae2e93e3a9c4"
      },
      "execution_count": null,
      "outputs": [
        {
          "output_type": "stream",
          "name": "stdout",
          "text": [
            "313/313 [==============================] - 1s 3ms/step - loss: 1.1221 - accuracy: 0.6176\n"
          ]
        },
        {
          "output_type": "execute_result",
          "data": {
            "text/plain": [
              "[1.122146487236023, 0.6176000237464905]"
            ]
          },
          "metadata": {},
          "execution_count": 17
        }
      ]
    },
    {
      "cell_type": "code",
      "source": [
        "pred=model.predict(x_test)"
      ],
      "metadata": {
        "colab": {
          "base_uri": "https://localhost:8080/"
        },
        "id": "Q1ydbod-shRq",
        "outputId": "06231e9b-cf54-436b-9c5e-d6712ed605b9"
      },
      "execution_count": null,
      "outputs": [
        {
          "output_type": "stream",
          "name": "stdout",
          "text": [
            "313/313 [==============================] - 1s 2ms/step\n"
          ]
        }
      ]
    },
    {
      "cell_type": "code",
      "source": [
        "y_score=model.predict(x_test)\n",
        "print(y_score.shape)\n",
        "y_pred=np.argmax(y_score,axis=1)#return col which has max value\n",
        "y_test=np.argmax(y_test,axis=1)#axis 0=rows and axis 1=col\n"
      ],
      "metadata": {
        "colab": {
          "base_uri": "https://localhost:8080/"
        },
        "id": "85djagnW9InW",
        "outputId": "6a2a1cfc-58d1-4b7e-b4a6-7daae4c4c7ea"
      },
      "execution_count": null,
      "outputs": [
        {
          "output_type": "stream",
          "name": "stdout",
          "text": [
            "313/313 [==============================] - 1s 2ms/step\n",
            "(10000, 10)\n"
          ]
        }
      ]
    },
    {
      "cell_type": "code",
      "source": [
        "y_test.shape"
      ],
      "metadata": {
        "colab": {
          "base_uri": "https://localhost:8080/"
        },
        "id": "K0mSQTNa9NNO",
        "outputId": "ec7122e6-0223-4a20-b416-d8ae68a7b458"
      },
      "execution_count": null,
      "outputs": [
        {
          "output_type": "execute_result",
          "data": {
            "text/plain": [
              "(10000,)"
            ]
          },
          "metadata": {},
          "execution_count": 20
        }
      ]
    },
    {
      "cell_type": "code",
      "source": [
        "from sklearn.metrics import confusion_matrix,classification_report,roc_curve,auc\n",
        "print(classification_report(y_test,y_pred))"
      ],
      "metadata": {
        "colab": {
          "base_uri": "https://localhost:8080/"
        },
        "id": "SMEDNizn9Yfn",
        "outputId": "83a1996a-2a6c-4a22-d29c-af0280f35ff2"
      },
      "execution_count": null,
      "outputs": [
        {
          "output_type": "stream",
          "name": "stdout",
          "text": [
            "              precision    recall  f1-score   support\n",
            "\n",
            "           0       0.73      0.64      0.68      1000\n",
            "           1       0.83      0.73      0.78      1000\n",
            "           2       0.61      0.42      0.50      1000\n",
            "           3       0.45      0.43      0.44      1000\n",
            "           4       0.41      0.78      0.54      1000\n",
            "           5       0.48      0.67      0.56      1000\n",
            "           6       0.86      0.44      0.58      1000\n",
            "           7       0.63      0.73      0.68      1000\n",
            "           8       0.79      0.72      0.75      1000\n",
            "           9       0.82      0.62      0.71      1000\n",
            "\n",
            "    accuracy                           0.62     10000\n",
            "   macro avg       0.66      0.62      0.62     10000\n",
            "weighted avg       0.66      0.62      0.62     10000\n",
            "\n"
          ]
        }
      ]
    },
    {
      "cell_type": "code",
      "source": [
        "from sklearn.metrics import confusion_matrix, ConfusionMatrixDisplay\n",
        "cm = confusion_matrix(y_test, y_pred)\n",
        "disp = ConfusionMatrixDisplay(confusion_matrix=cm\n",
        "                               )\n",
        "disp.plot(cmap='Blues')\n",
        "plt.show()"
      ],
      "metadata": {
        "colab": {
          "base_uri": "https://localhost:8080/",
          "height": 279
        },
        "id": "RgICc2cZEhfO",
        "outputId": "9339c069-f622-4bb1-d1fe-388f4ea213ec"
      },
      "execution_count": null,
      "outputs": [
        {
          "output_type": "display_data",
          "data": {
            "text/plain": [
              "<Figure size 432x288 with 2 Axes>"
            ],
            "image/png": "[encoded data removed]"
          },
          "metadata": {
            "needs_background": "light"
          }
        }
      ]
    }
  ]
}